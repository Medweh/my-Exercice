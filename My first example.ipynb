{
 "cells": [
  {
   "cell_type": "markdown",
   "id": "5fa2091a-c6bf-4f47-adc1-a74796009208",
   "metadata": {},
   "source": [
    "# Final Project - Data Science Notebook\n"
   ]
  },
  {
   "cell_type": "markdown",
   "id": "73b8db02-cbf7-45b1-9bfc-e8d678a54dbe",
   "metadata": {},
   "source": [
    "## Introduction\n",
    "This notebook summarizes some key data science concepts, tools, and simple arithmetic examples.\n"
   ]
  },
  {
   "cell_type": "markdown",
   "id": "43e47870-248f-4172-ba21-1f290b98ee6f",
   "metadata": {},
   "source": [
    "## Data Science Languages\n",
    "- Python\n",
    "- R\n",
    "- SQL\n",
    "- Julia\n",
    "- Scala\n"
   ]
  },
  {
   "cell_type": "markdown",
   "id": "3f389927-5cdf-4bc4-aaee-db3339abd5ea",
   "metadata": {},
   "source": [
    "## Data Science Libraries\n",
    "- pandas\n",
    "- NumPy\n",
    "- scikit-learn\n",
    "- TensorFlow\n",
    "- ggplot2\n",
    "- matplotlib\n"
   ]
  },
  {
   "cell_type": "markdown",
   "id": "a5bb5d6b-18e1-4248-87c1-4a0479fc3f70",
   "metadata": {},
   "source": [
    "## Data Science Tools\n",
    "\n",
    "| Tool           | Purpose                          |\n",
    "|----------------|----------------------------------|\n",
    "| JupyterLab     | Interactive coding notebooks     |\n",
    "| RStudio        | IDE for R                        |\n",
    "| Apache Spark   | Big data processing framework    |\n",
    "| RapidMiner     | Data mining and analytics        |\n",
    "| Tableau        | Data visualization               |\n"
   ]
  },
  {
   "cell_type": "markdown",
   "id": "5516609b-826a-42e7-b813-40a39022d602",
   "metadata": {},
   "source": [
    "## Arithmetic Expressions Examples\n",
    "In the following cells, we'll show basic arithmetic operations: addition and multiplication.\n"
   ]
  },
  {
   "cell_type": "code",
   "execution_count": 5,
   "id": "4f0dce18-09f7-4879-a65c-248bf7d23386",
   "metadata": {},
   "outputs": [
    {
     "name": "stdout",
     "output_type": "stream",
     "text": [
      "The result of 3 * 4 + 5 is: 17\n"
     ]
    }
   ],
   "source": [
    "# Arithmetic operations\n",
    "result = (3 * 4) + 5\n",
    "print(\"The result of 3 * 4 + 5 is:\", result)\n"
   ]
  },
  {
   "cell_type": "markdown",
   "id": "595f7369-e20e-44b5-9af7-205baa594222",
   "metadata": {},
   "source": [
    "# Convert minutes to hours\n",
    "minutes = 150\n",
    "hours = minutes / 60\n",
    "print(f\"{minutes} minutes is equivalent to {hours} hours.\")\n"
   ]
  },
  {
   "cell_type": "markdown",
   "id": "40e68059-0419-409f-b127-0af6b9a831af",
   "metadata": {},
   "source": [
    "## Objectives\n",
    "- Demonstrate Markdown syntax and data science tools.\n",
    "- Show basic arithmetic calculations.\n",
    "- Practice converting units (minutes to hours).\n"
   ]
  },
  {
   "cell_type": "markdown",
   "id": "91d7a150-0646-4af5-b464-d8c311e5623f",
   "metadata": {},
   "source": [
    "# Author \n",
    "Mohamed ESSAHAFI\n"
   ]
  },
  {
   "cell_type": "code",
   "execution_count": null,
   "id": "4abd6442-0f42-4faa-86c8-a639ef12a96a",
   "metadata": {},
   "outputs": [],
   "source": []
  }
 ],
 "metadata": {
  "kernelspec": {
   "display_name": "Python 3 (ipykernel)",
   "language": "python",
   "name": "python3"
  },
  "language_info": {
   "codemirror_mode": {
    "name": "ipython",
    "version": 3
   },
   "file_extension": ".py",
   "mimetype": "text/x-python",
   "name": "python",
   "nbconvert_exporter": "python",
   "pygments_lexer": "ipython3",
   "version": "3.12.8"
  }
 },
 "nbformat": 4,
 "nbformat_minor": 5
}
